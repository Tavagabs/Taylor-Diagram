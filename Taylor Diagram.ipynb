{
 "cells": [
  {
   "cell_type": "markdown",
   "id": "71c963a0",
   "metadata": {},
   "source": [
    "## Taylor Diagram\n",
    "\n",
    "## Produced by Carvalho, G. T. (2024)"
   ]
  },
  {
   "cell_type": "code",
   "execution_count": null,
   "id": "a3298149",
   "metadata": {},
   "outputs": [],
   "source": [
    "## Importing libraries\n",
    "\n",
    "import pandas as pd\n",
    "import matplotlib.pyplot as plt\n",
    "import numpy as np\n",
    "from easy_mpl import taylor_plot\n",
    "from easy_mpl.utils import version_info"
   ]
  },
  {
   "cell_type": "code",
   "execution_count": null,
   "id": "d996c0b0",
   "metadata": {},
   "outputs": [],
   "source": [
    "## Import database\n",
    "data=pd.read_csv ('Import database.csv')"
   ]
  },
  {
   "cell_type": "code",
   "execution_count": null,
   "id": "eca6f29a",
   "metadata": {},
   "outputs": [],
   "source": [
    "observations = data.refence   ## Defining the data table column that is the comparison reference data\n",
    "simulations =  {\"Subtitle\": data.estimated}  ## Defining the column of the data table that is the estimated data for comparison\n",
    "\n",
    "_ = taylor_plot(observations,simulations,\n",
    "            plot_bias=True,\n",
    "            cont_kws={'colors': 'blue', 'linewidths': 1.5, 'linestyles': 'dotted'},\n",
    "            grid_kws={'axis': 'x', 'color': 'g', 'lw': 1.5},\n",
    "            leg_kws={'facecolor': 'white',\n",
    "                'edgecolor': 'black','bbox_to_anchor':(0.90, 0.9),\n",
    "                'fontsize': 14, 'labelspacing': 1.0},\n",
    "                marker_kws = {'ms':'17', 'markeredgecolor': 'k', 'lw': 0.0},\n",
    "                title=\" title \")"
   ]
  }
 ],
 "metadata": {
  "kernelspec": {
   "display_name": "Python 3 (ipykernel)",
   "language": "python",
   "name": "python3"
  },
  "language_info": {
   "codemirror_mode": {
    "name": "ipython",
    "version": 3
   },
   "file_extension": ".py",
   "mimetype": "text/x-python",
   "name": "python",
   "nbconvert_exporter": "python",
   "pygments_lexer": "ipython3",
   "version": "3.11.5"
  }
 },
 "nbformat": 4,
 "nbformat_minor": 5
}
